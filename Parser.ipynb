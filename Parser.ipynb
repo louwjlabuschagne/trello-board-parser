{
 "cells": [
  {
   "cell_type": "code",
   "execution_count": null,
   "id": "34f5a4e8",
   "metadata": {
    "ExecuteTime": {
     "end_time": "2022-07-12T16:09:21.443857Z",
     "start_time": "2022-07-12T16:09:21.440856Z"
    }
   },
   "outputs": [],
   "source": [
    "import pandas as pd\n",
    "from pathlib import Path\n",
    "import numpy as np\n",
    "import json"
   ]
  },
  {
   "cell_type": "code",
   "execution_count": null,
   "id": "7d1acf59",
   "metadata": {},
   "outputs": [],
   "source": [
    "data = Path('./data/board.json')\n",
    "with open(data, 'r') as f:\n",
    "    data = json.load(f)"
   ]
  },
  {
   "cell_type": "code",
   "execution_count": null,
   "id": "42bf6fe6",
   "metadata": {},
   "outputs": [],
   "source": [
    "df = pd.DataFrame(data['cards'])\n",
    "lists = {_['id']: _['name'] for _ in data['lists']}\n",
    "df['list'] = df['idList'].map(lists)\n",
    "\n",
    "members = {_['id']: _['username'] for _ in data['members']}\n",
    "df['members'] = df['idMembers'].apply(lambda x: [members[_] for _ in x])\n",
    "\n",
    "labels = {_['id']: _['name'] for _ in data['labels']}\n",
    "df['labels'] = df['idLabels'].apply(lambda x: [labels[_] for _ in x])"
   ]
  },
  {
   "cell_type": "code",
   "execution_count": null,
   "id": "aa82de1e",
   "metadata": {
    "ExecuteTime": {
     "end_time": "2022-07-12T16:09:07.180842Z",
     "start_time": "2022-07-12T16:09:04.763232Z"
    }
   },
   "outputs": [],
   "source": [
    "cost_per_point = 500\n",
    "df_output = df[df['list'] == 'App V5'].copy()\n",
    "df_output['points'] = df_output['pluginData'].apply(lambda x: json.loads(x[0].get('value', {})).get('points', np.nan))\n",
    "df_output = df_output[['name', 'desc', 'points', 'members', 'labels']]\n",
    "df_output['cost'] = df_output['points'] * cost_per_point\n",
    "df_output['sprint'] = df_output['labels'].apply(lambda x: [y for y in x if 'Sprint' in y][0])\n",
    "df_output['Asheck-able'] = df_output['members'].apply(lambda x: 'nyashaasheckhove' in x).map({True: 'Yes', False: 'No'})\n",
    "df_output.drop(['members', 'labels'], axis=1, inplace=True)\n",
    "df_output.columns = [c.capitalize() for c in df_output.columns]\n",
    "df_output"
   ]
  },
  {
   "cell_type": "code",
   "execution_count": null,
   "id": "e7150826",
   "metadata": {},
   "outputs": [],
   "source": [
    "df_output.groupby('Asheck-able').sum()"
   ]
  },
  {
   "cell_type": "code",
   "execution_count": null,
   "id": "b9656855",
   "metadata": {},
   "outputs": [],
   "source": [
    "df_output.groupby('Sprint').sum()"
   ]
  },
  {
   "cell_type": "code",
   "execution_count": null,
   "id": "38cd6ae1",
   "metadata": {},
   "outputs": [],
   "source": [
    "df_output.to_csv('output.csv', index=False)"
   ]
  },
  {
   "cell_type": "code",
   "execution_count": null,
   "id": "ff2e4668",
   "metadata": {},
   "outputs": [],
   "source": []
  },
  {
   "cell_type": "code",
   "execution_count": null,
   "id": "ce38a563",
   "metadata": {},
   "outputs": [],
   "source": []
  }
 ],
 "metadata": {
  "kernelspec": {
   "display_name": "Python 3.10.2 64-bit ('3.10.2')",
   "language": "python",
   "name": "python3"
  },
  "language_info": {
   "codemirror_mode": {
    "name": "ipython",
    "version": 3
   },
   "file_extension": ".py",
   "mimetype": "text/x-python",
   "name": "python",
   "nbconvert_exporter": "python",
   "pygments_lexer": "ipython3",
   "version": "3.10.2"
  },
  "toc": {
   "base_numbering": 1,
   "nav_menu": {},
   "number_sections": true,
   "sideBar": true,
   "skip_h1_title": false,
   "title_cell": "Table of Contents",
   "title_sidebar": "Contents",
   "toc_cell": false,
   "toc_position": {},
   "toc_section_display": true,
   "toc_window_display": false
  },
  "vscode": {
   "interpreter": {
    "hash": "5a8798aa39da50f913922ace66e6111d1e1d69f2555509973a51f26dcd3d5dd9"
   }
  }
 },
 "nbformat": 4,
 "nbformat_minor": 5
}
